{
 "cells": [
  {
   "cell_type": "code",
   "execution_count": 18,
   "metadata": {},
   "outputs": [
    {
     "data": {
      "text/html": [
       "<div>\n",
       "<style scoped>\n",
       "    .dataframe tbody tr th:only-of-type {\n",
       "        vertical-align: middle;\n",
       "    }\n",
       "\n",
       "    .dataframe tbody tr th {\n",
       "        vertical-align: top;\n",
       "    }\n",
       "\n",
       "    .dataframe thead th {\n",
       "        text-align: right;\n",
       "    }\n",
       "</style>\n",
       "<table border=\"1\" class=\"dataframe\">\n",
       "  <thead>\n",
       "    <tr style=\"text-align: right;\">\n",
       "      <th></th>\n",
       "      <th>default</th>\n",
       "      <th>student</th>\n",
       "      <th>balance</th>\n",
       "      <th>income</th>\n",
       "    </tr>\n",
       "  </thead>\n",
       "  <tbody>\n",
       "    <tr>\n",
       "      <th>0</th>\n",
       "      <td>0</td>\n",
       "      <td>0</td>\n",
       "      <td>729.526495</td>\n",
       "      <td>44361.625074</td>\n",
       "    </tr>\n",
       "    <tr>\n",
       "      <th>1</th>\n",
       "      <td>0</td>\n",
       "      <td>1</td>\n",
       "      <td>817.180407</td>\n",
       "      <td>12106.134700</td>\n",
       "    </tr>\n",
       "    <tr>\n",
       "      <th>2</th>\n",
       "      <td>0</td>\n",
       "      <td>0</td>\n",
       "      <td>1073.549164</td>\n",
       "      <td>31767.138947</td>\n",
       "    </tr>\n",
       "    <tr>\n",
       "      <th>3</th>\n",
       "      <td>0</td>\n",
       "      <td>0</td>\n",
       "      <td>529.250605</td>\n",
       "      <td>35704.493935</td>\n",
       "    </tr>\n",
       "    <tr>\n",
       "      <th>4</th>\n",
       "      <td>0</td>\n",
       "      <td>0</td>\n",
       "      <td>785.655883</td>\n",
       "      <td>38463.495879</td>\n",
       "    </tr>\n",
       "  </tbody>\n",
       "</table>\n",
       "</div>"
      ],
      "text/plain": [
       "   default  student      balance        income\n",
       "0        0        0   729.526495  44361.625074\n",
       "1        0        1   817.180407  12106.134700\n",
       "2        0        0  1073.549164  31767.138947\n",
       "3        0        0   529.250605  35704.493935\n",
       "4        0        0   785.655883  38463.495879"
      ]
     },
     "execution_count": 18,
     "metadata": {},
     "output_type": "execute_result"
    }
   ],
   "source": [
    "import numpy as np \n",
    "import pandas as pd\n",
    "from collections import Counter\n",
    "df = pd.read_csv('dataset-63314.csv')\n",
    "df['default'] = df['default'].apply(lambda x: 1 if x == 'Yes' else 0)\n",
    "df['student'] = df['student'].apply(lambda x: 1 if x == 'Yes' else 0)\n",
    "df.head()"
   ]
  },
  {
   "cell_type": "markdown",
   "metadata": {},
   "source": [
    "# Ex 1"
   ]
  },
  {
   "cell_type": "code",
   "execution_count": 19,
   "metadata": {},
   "outputs": [
    {
     "data": {
      "text/html": [
       "<div>\n",
       "<style scoped>\n",
       "    .dataframe tbody tr th:only-of-type {\n",
       "        vertical-align: middle;\n",
       "    }\n",
       "\n",
       "    .dataframe tbody tr th {\n",
       "        vertical-align: top;\n",
       "    }\n",
       "\n",
       "    .dataframe thead th {\n",
       "        text-align: right;\n",
       "    }\n",
       "</style>\n",
       "<table border=\"1\" class=\"dataframe\">\n",
       "  <thead>\n",
       "    <tr style=\"text-align: right;\">\n",
       "      <th></th>\n",
       "      <th>default</th>\n",
       "      <th>student</th>\n",
       "      <th>balance</th>\n",
       "      <th>income</th>\n",
       "    </tr>\n",
       "  </thead>\n",
       "  <tbody>\n",
       "    <tr>\n",
       "      <th>8487</th>\n",
       "      <td>0</td>\n",
       "      <td>0</td>\n",
       "      <td>680.706469</td>\n",
       "      <td>42316.403112</td>\n",
       "    </tr>\n",
       "    <tr>\n",
       "      <th>7697</th>\n",
       "      <td>0</td>\n",
       "      <td>0</td>\n",
       "      <td>917.856227</td>\n",
       "      <td>49353.950634</td>\n",
       "    </tr>\n",
       "    <tr>\n",
       "      <th>9122</th>\n",
       "      <td>0</td>\n",
       "      <td>1</td>\n",
       "      <td>1017.360966</td>\n",
       "      <td>21702.183103</td>\n",
       "    </tr>\n",
       "    <tr>\n",
       "      <th>4501</th>\n",
       "      <td>0</td>\n",
       "      <td>1</td>\n",
       "      <td>1310.793503</td>\n",
       "      <td>16742.952524</td>\n",
       "    </tr>\n",
       "    <tr>\n",
       "      <th>8315</th>\n",
       "      <td>0</td>\n",
       "      <td>1</td>\n",
       "      <td>1343.777124</td>\n",
       "      <td>28198.005353</td>\n",
       "    </tr>\n",
       "  </tbody>\n",
       "</table>\n",
       "</div>"
      ],
      "text/plain": [
       "      default  student      balance        income\n",
       "8487        0        0   680.706469  42316.403112\n",
       "7697        0        0   917.856227  49353.950634\n",
       "9122        0        1  1017.360966  21702.183103\n",
       "4501        0        1  1310.793503  16742.952524\n",
       "8315        0        1  1343.777124  28198.005353"
      ]
     },
     "execution_count": 19,
     "metadata": {},
     "output_type": "execute_result"
    }
   ],
   "source": [
    "from sklearn.model_selection import train_test_split\n",
    "train, test = train_test_split(df, test_size=0.2)\n",
    "train_x = train[['student', 'balance', 'income']].values\n",
    "test_x = test[['student', 'balance', 'income']].values\n",
    "train_y = train['default'].values\n",
    "test_y = test['default'].values\n",
    "train.head()"
   ]
  },
  {
   "cell_type": "code",
   "execution_count": 20,
   "metadata": {},
   "outputs": [
    {
     "data": {
      "text/plain": [
       "{'covariance': array([[ 2.07383673e-01,  4.54951563e+01, -4.56835356e+03],\n",
       "        [ 4.54951563e+01,  2.34268863e+05, -1.02062504e+06],\n",
       "        [-4.56835356e+03, -1.02062504e+06,  1.76292719e+08]]),\n",
       " 'means': [array([2.90109890e-01, 8.03071198e+02, 3.36007524e+04]),\n",
       "  array([3.92452830e-01, 1.76669697e+03, 3.15657233e+04])],\n",
       " 'priors': [0.966875, 0.033125]}"
      ]
     },
     "execution_count": 20,
     "metadata": {},
     "output_type": "execute_result"
    }
   ],
   "source": [
    "def learn_LDA(train_x, train_y):\n",
    "    # A function that takes as an input a matrix of coefficients and a vector of classes\n",
    "    # and it trains the model (for the training data).\n",
    "    covariance = np.cov(train_x.T)\n",
    "    means = [train_x[train_y == 0].mean(axis=0), \n",
    "             train_x[train_y == 1].mean(axis=0)]\n",
    "    priors = Counter(train_y.flatten())\n",
    "    priors = [priors[class_]/len(train_y) for class_ in [0, 1]]\n",
    "    model = {'covariance': covariance,\n",
    "        'means': means,\n",
    "        'priors': priors}\n",
    "    return model\n",
    "model = learn_LDA(train_x, train_y)\n",
    "model"
   ]
  },
  {
   "cell_type": "code",
   "execution_count": 21,
   "metadata": {},
   "outputs": [],
   "source": [
    "def return_gausian_prob(x, means, covariance):\n",
    "    result = (x-means)\n",
    "    conv_inv = np.linalg.inv(covariance)\n",
    "    result = np.apply_along_axis(lambda x: x @ conv_inv, 1, result)\n",
    "    \n",
    "    result = -0.5*np.apply_along_axis(lambda x: x @ (x-means), 1, result)\n",
    "\n",
    "    \n",
    "    result = np.exp(result)\n",
    "    \n",
    "    \n",
    "    result = result*((2*np.pi)**x.shape[1]*np.linalg.det(covariance))**-0.5\n",
    "    \n",
    "    return result"
   ]
  },
  {
   "cell_type": "code",
   "execution_count": 22,
   "metadata": {},
   "outputs": [
    {
     "data": {
      "text/plain": [
       "0.966"
      ]
     },
     "execution_count": 22,
     "metadata": {},
     "output_type": "execute_result"
    }
   ],
   "source": [
    "def inference_LDA(x, model):\n",
    "    # A  function that takes as an input a matrix of coefficients and it returns posterior\n",
    "    # distributions (for the test data)\n",
    "    class_1_gausian_prob = return_gausian_prob(x, model['means'][1], model['covariance'])\n",
    "    class_0_gausian_prob = return_gausian_prob(x, model['means'][0], model['covariance'])\n",
    "    numerator = class_1_gausian_prob*model['priors'][1]\n",
    "    denominator = numerator + class_0_gausian_prob*model['priors'][0]\n",
    "    return numerator/denominator\n",
    "y_pred = inference_LDA(test_x, model)\n",
    "y_pred = np.array([1 if y > 0.5 else 0 for y in y_pred])\n",
    "sum(y_pred == test_y)/len(test_y)"
   ]
  },
  {
   "cell_type": "code",
   "execution_count": 23,
   "metadata": {},
   "outputs": [
    {
     "data": {
      "text/plain": [
       "{'covariances': [array([[ 2.05972770e-01,  4.25621534e+01, -4.53611074e+03],\n",
       "         [ 4.25621534e+01,  2.07767127e+05, -9.74452254e+05],\n",
       "         [-4.53611074e+03, -9.74452254e+05,  1.75767130e+08]]),\n",
       "  array([[ 2.39336764e-01,  3.58764547e+01, -5.32809153e+03],\n",
       "         [ 3.58764547e+01,  1.10320234e+05, -4.73913476e+05],\n",
       "         [-5.32809153e+03, -4.73913476e+05,  1.88338526e+08]])],\n",
       " 'means': [array([2.90109890e-01, 8.03071198e+02, 3.36007524e+04]),\n",
       "  array([3.92452830e-01, 1.76669697e+03, 3.15657233e+04])],\n",
       " 'priors': [0.966875, 0.033125]}"
      ]
     },
     "execution_count": 23,
     "metadata": {},
     "output_type": "execute_result"
    }
   ],
   "source": [
    "def learn_QDA(train_x, train_y):\n",
    "    # A function that takes as an input a matrix of coefficients and a vector of classes\n",
    "    # and it trains the model (for the training data).\n",
    "    covariances = [np.cov(train_x[train_y == 0].T), np.cov(train_x[train_y == 1].T)]\n",
    "    means = [train_x[train_y == 0].mean(axis=0), \n",
    "             train_x[train_y == 1].mean(axis=0)]\n",
    "    priors = Counter(train_y.flatten())\n",
    "    priors = [priors[class_]/len(train_y) for class_ in [0, 1]]\n",
    "    model = {'covariances': covariances,\n",
    "        'means': means,\n",
    "        'priors': priors}\n",
    "    return model\n",
    "model = learn_QDA(train_x, train_y)\n",
    "model"
   ]
  },
  {
   "cell_type": "code",
   "execution_count": 24,
   "metadata": {},
   "outputs": [
    {
     "data": {
      "text/plain": [
       "0.9655"
      ]
     },
     "execution_count": 24,
     "metadata": {},
     "output_type": "execute_result"
    }
   ],
   "source": [
    "def inference_QDA(x, model):\n",
    "    # A  function that takes as an input a matrix of coefficients and it returns posterior\n",
    "    # distributions (for the test data)\n",
    "    class_1_gausian_prob = return_gausian_prob(x, model['means'][1], model['covariances'][1])\n",
    "    class_0_gausian_prob = return_gausian_prob(x, model['means'][0], model['covariances'][0])\n",
    "    numerator = class_1_gausian_prob*model['priors'][1]\n",
    "    denominator = numerator + class_0_gausian_prob*model['priors'][0]\n",
    "    return numerator/denominator\n",
    "y_pred = inference_QDA(test_x, model)\n",
    "y_pred = np.array([1 if y > 0.5 else 0 for y in y_pred])\n",
    "sum(y_pred == test_y)/len(test_y)"
   ]
  },
  {
   "cell_type": "markdown",
   "metadata": {},
   "source": [
    "### Comparison with sklearn"
   ]
  },
  {
   "cell_type": "code",
   "execution_count": 25,
   "metadata": {},
   "outputs": [
    {
     "data": {
      "text/plain": [
       "0.9685"
      ]
     },
     "execution_count": 25,
     "metadata": {},
     "output_type": "execute_result"
    }
   ],
   "source": [
    "from sklearn.discriminant_analysis import LinearDiscriminantAnalysis\n",
    "clf = LinearDiscriminantAnalysis().fit(train_x, train_y)\n",
    "clf.score(test_x, test_y)"
   ]
  },
  {
   "cell_type": "code",
   "execution_count": 26,
   "metadata": {},
   "outputs": [
    {
     "data": {
      "text/plain": [
       "0.9715"
      ]
     },
     "execution_count": 26,
     "metadata": {},
     "output_type": "execute_result"
    }
   ],
   "source": [
    "from sklearn.discriminant_analysis import QuadraticDiscriminantAnalysis\n",
    "clf = QuadraticDiscriminantAnalysis().fit(train_x, train_y)\n",
    "clf.score(test_x, test_y)"
   ]
  },
  {
   "cell_type": "markdown",
   "metadata": {},
   "source": [
    "# Ex 2"
   ]
  },
  {
   "cell_type": "markdown",
   "metadata": {},
   "source": [
    "### a"
   ]
  },
  {
   "cell_type": "code",
   "execution_count": 27,
   "metadata": {},
   "outputs": [],
   "source": [
    "Y = np.random.choice([0, 1], size=n)"
   ]
  },
  {
   "cell_type": "code",
   "execution_count": 28,
   "metadata": {},
   "outputs": [],
   "source": [
    "from scipy import stats\n",
    "distr_0 = stats.multivariate_normal([0, 0], [[1,0], [0,1]])\n",
    "distr_1 = stats.multivariate_normal([1, 1], [[1,0], [0,1]])"
   ]
  },
  {
   "cell_type": "code",
   "execution_count": 29,
   "metadata": {},
   "outputs": [],
   "source": [
    "X = np.array([distr_0.rvs() if y==0 else distr_1.rvs() for y in Y])"
   ]
  },
  {
   "cell_type": "code",
   "execution_count": 30,
   "metadata": {},
   "outputs": [
    {
     "data": {
      "text/plain": [
       "0.772"
      ]
     },
     "execution_count": 30,
     "metadata": {},
     "output_type": "execute_result"
    }
   ],
   "source": [
    "clf = LinearDiscriminantAnalysis().fit(X, Y)\n",
    "clf.score(X, Y)"
   ]
  },
  {
   "cell_type": "code",
   "execution_count": 31,
   "metadata": {},
   "outputs": [
    {
     "data": {
      "text/plain": [
       "0.772"
      ]
     },
     "execution_count": 31,
     "metadata": {},
     "output_type": "execute_result"
    }
   ],
   "source": [
    "clf = QuadraticDiscriminantAnalysis().fit(X, Y)\n",
    "clf.score(X, Y)"
   ]
  },
  {
   "cell_type": "markdown",
   "metadata": {},
   "source": [
    "### b"
   ]
  },
  {
   "cell_type": "code",
   "execution_count": 32,
   "metadata": {},
   "outputs": [],
   "source": [
    "Y = np.random.choice([0, 1], size=n)\n",
    "\n",
    "from scipy import stats\n",
    "distr_0 = stats.multivariate_normal([0, 0], [[1,0.8], [0.8,1]])\n",
    "distr_1 = stats.multivariate_normal([1, 1], [[1,-0.8], [-0.8,1]])\n",
    "X = np.array([distr_0.rvs() if y==0 else distr_1.rvs() for y in Y])"
   ]
  },
  {
   "cell_type": "code",
   "execution_count": 33,
   "metadata": {},
   "outputs": [
    {
     "data": {
      "text/plain": [
       "0.816"
      ]
     },
     "execution_count": 33,
     "metadata": {},
     "output_type": "execute_result"
    }
   ],
   "source": [
    "LinearDiscriminantAnalysis().fit(X, Y).score(X, Y)"
   ]
  },
  {
   "cell_type": "code",
   "execution_count": 34,
   "metadata": {},
   "outputs": [
    {
     "data": {
      "text/plain": [
       "0.857"
      ]
     },
     "execution_count": 34,
     "metadata": {},
     "output_type": "execute_result"
    }
   ],
   "source": [
    "QuadraticDiscriminantAnalysis().fit(X, Y).score(X, Y)\n"
   ]
  },
  {
   "cell_type": "markdown",
   "metadata": {},
   "source": [
    "## Ex 3"
   ]
  },
  {
   "cell_type": "code",
   "execution_count": 35,
   "metadata": {},
   "outputs": [
    {
     "data": {
      "text/plain": [
       "Counter({1: 519, 0: 481})"
      ]
     },
     "execution_count": 35,
     "metadata": {},
     "output_type": "execute_result"
    }
   ],
   "source": [
    "Y = np.random.choice([0, 1], size=n)\n",
    "Counter(Y)"
   ]
  },
  {
   "cell_type": "code",
   "execution_count": 36,
   "metadata": {},
   "outputs": [],
   "source": [
    "means = [0.25, 0.5, 0.75, 1]\n",
    "corrs = np.linspace(0, 0.99, 25)\n",
    "def return_LDA_QDA_acc(mean, corr, k=100):\n",
    "    Y = np.random.choice([0, 1], size=n)\n",
    "    data = []\n",
    "    for i in range(k):\n",
    "        distr_0 = stats.multivariate_normal([0, 0], [[1,corr], [corr,1]])\n",
    "        distr_1 = stats.multivariate_normal([mean, mean], [[1,-corr], [-corr,1]])\n",
    "        X = np.array([distr_0.rvs() if y==0 else distr_1.rvs() for y in Y])\n",
    "        data.append((LinearDiscriminantAnalysis().fit(X, Y).score(X, Y), QuadraticDiscriminantAnalysis().fit(X, Y).score(X, Y)))\n",
    "    return np.array(data).mean(axis=0)"
   ]
  },
  {
   "cell_type": "code",
   "execution_count": 37,
   "metadata": {},
   "outputs": [],
   "source": [
    "data = [np.zeros(shape=(len(means), len(corrs))), np.zeros(shape=(len(means), len(corrs)))]\n",
    "for i, mean in enumerate(means): \n",
    "    for j, corr in enumerate(corrs): \n",
    "        LDA_acc, QDA_acc = return_LDA_QDA_acc(mean, corr)\n",
    "        data[0][i,j] = LDA_acc\n",
    "        data[1][i,j] = QDA_acc\n",
    "        \n",
    "LDA = pd.DataFrame(data[0], columns=corrs, index=means)\n",
    "QDA = pd.DataFrame(data[1], columns=corrs, index=means)\n"
   ]
  },
  {
   "cell_type": "code",
   "execution_count": 38,
   "metadata": {},
   "outputs": [
    {
     "data": {
      "text/html": [
       "<div>\n",
       "<style scoped>\n",
       "    .dataframe tbody tr th:only-of-type {\n",
       "        vertical-align: middle;\n",
       "    }\n",
       "\n",
       "    .dataframe tbody tr th {\n",
       "        vertical-align: top;\n",
       "    }\n",
       "\n",
       "    .dataframe thead th {\n",
       "        text-align: right;\n",
       "    }\n",
       "</style>\n",
       "<table border=\"1\" class=\"dataframe\">\n",
       "  <thead>\n",
       "    <tr style=\"text-align: right;\">\n",
       "      <th></th>\n",
       "      <th>0.00000</th>\n",
       "      <th>0.04125</th>\n",
       "      <th>0.08250</th>\n",
       "      <th>0.12375</th>\n",
       "      <th>0.16500</th>\n",
       "      <th>0.20625</th>\n",
       "      <th>0.24750</th>\n",
       "      <th>0.28875</th>\n",
       "      <th>0.33000</th>\n",
       "      <th>0.37125</th>\n",
       "      <th>...</th>\n",
       "      <th>0.61875</th>\n",
       "      <th>0.66000</th>\n",
       "      <th>0.70125</th>\n",
       "      <th>0.74250</th>\n",
       "      <th>0.78375</th>\n",
       "      <th>0.82500</th>\n",
       "      <th>0.86625</th>\n",
       "      <th>0.90750</th>\n",
       "      <th>0.94875</th>\n",
       "      <th>0.99000</th>\n",
       "    </tr>\n",
       "  </thead>\n",
       "  <tbody>\n",
       "    <tr>\n",
       "      <th>0.25</th>\n",
       "      <td>0.57392</td>\n",
       "      <td>0.57867</td>\n",
       "      <td>0.57192</td>\n",
       "      <td>0.56846</td>\n",
       "      <td>0.56883</td>\n",
       "      <td>0.57195</td>\n",
       "      <td>0.56985</td>\n",
       "      <td>0.57100</td>\n",
       "      <td>0.56256</td>\n",
       "      <td>0.60212</td>\n",
       "      <td>...</td>\n",
       "      <td>0.59338</td>\n",
       "      <td>0.55389</td>\n",
       "      <td>0.51864</td>\n",
       "      <td>0.60587</td>\n",
       "      <td>0.64823</td>\n",
       "      <td>0.58968</td>\n",
       "      <td>0.62499</td>\n",
       "      <td>0.55247</td>\n",
       "      <td>0.48174</td>\n",
       "      <td>0.67967</td>\n",
       "    </tr>\n",
       "    <tr>\n",
       "      <th>0.50</th>\n",
       "      <td>0.63589</td>\n",
       "      <td>0.64331</td>\n",
       "      <td>0.63715</td>\n",
       "      <td>0.63782</td>\n",
       "      <td>0.63908</td>\n",
       "      <td>0.64136</td>\n",
       "      <td>0.63798</td>\n",
       "      <td>0.63773</td>\n",
       "      <td>0.64971</td>\n",
       "      <td>0.64294</td>\n",
       "      <td>...</td>\n",
       "      <td>0.64381</td>\n",
       "      <td>0.66993</td>\n",
       "      <td>0.63725</td>\n",
       "      <td>0.67077</td>\n",
       "      <td>0.69693</td>\n",
       "      <td>0.72208</td>\n",
       "      <td>0.73118</td>\n",
       "      <td>0.73284</td>\n",
       "      <td>0.76899</td>\n",
       "      <td>0.79161</td>\n",
       "    </tr>\n",
       "    <tr>\n",
       "      <th>0.75</th>\n",
       "      <td>0.70297</td>\n",
       "      <td>0.70618</td>\n",
       "      <td>0.70384</td>\n",
       "      <td>0.70106</td>\n",
       "      <td>0.70329</td>\n",
       "      <td>0.70396</td>\n",
       "      <td>0.70930</td>\n",
       "      <td>0.70607</td>\n",
       "      <td>0.70835</td>\n",
       "      <td>0.71284</td>\n",
       "      <td>...</td>\n",
       "      <td>0.74530</td>\n",
       "      <td>0.73783</td>\n",
       "      <td>0.74979</td>\n",
       "      <td>0.75315</td>\n",
       "      <td>0.75697</td>\n",
       "      <td>0.77173</td>\n",
       "      <td>0.77696</td>\n",
       "      <td>0.79350</td>\n",
       "      <td>0.81117</td>\n",
       "      <td>0.82376</td>\n",
       "    </tr>\n",
       "    <tr>\n",
       "      <th>1.00</th>\n",
       "      <td>0.75933</td>\n",
       "      <td>0.76180</td>\n",
       "      <td>0.76140</td>\n",
       "      <td>0.76124</td>\n",
       "      <td>0.76483</td>\n",
       "      <td>0.76162</td>\n",
       "      <td>0.76342</td>\n",
       "      <td>0.76529</td>\n",
       "      <td>0.77125</td>\n",
       "      <td>0.76317</td>\n",
       "      <td>...</td>\n",
       "      <td>0.79320</td>\n",
       "      <td>0.79875</td>\n",
       "      <td>0.80179</td>\n",
       "      <td>0.80284</td>\n",
       "      <td>0.82989</td>\n",
       "      <td>0.82640</td>\n",
       "      <td>0.82964</td>\n",
       "      <td>0.83962</td>\n",
       "      <td>0.84777</td>\n",
       "      <td>0.84689</td>\n",
       "    </tr>\n",
       "  </tbody>\n",
       "</table>\n",
       "<p>4 rows × 25 columns</p>\n",
       "</div>"
      ],
      "text/plain": [
       "      0.00000  0.04125  0.08250  0.12375  0.16500  0.20625  0.24750  0.28875  \\\n",
       "0.25  0.57392  0.57867  0.57192  0.56846  0.56883  0.57195  0.56985  0.57100   \n",
       "0.50  0.63589  0.64331  0.63715  0.63782  0.63908  0.64136  0.63798  0.63773   \n",
       "0.75  0.70297  0.70618  0.70384  0.70106  0.70329  0.70396  0.70930  0.70607   \n",
       "1.00  0.75933  0.76180  0.76140  0.76124  0.76483  0.76162  0.76342  0.76529   \n",
       "\n",
       "      0.33000  0.37125  ...  0.61875  0.66000  0.70125  0.74250  0.78375  \\\n",
       "0.25  0.56256  0.60212  ...  0.59338  0.55389  0.51864  0.60587  0.64823   \n",
       "0.50  0.64971  0.64294  ...  0.64381  0.66993  0.63725  0.67077  0.69693   \n",
       "0.75  0.70835  0.71284  ...  0.74530  0.73783  0.74979  0.75315  0.75697   \n",
       "1.00  0.77125  0.76317  ...  0.79320  0.79875  0.80179  0.80284  0.82989   \n",
       "\n",
       "      0.82500  0.86625  0.90750  0.94875  0.99000  \n",
       "0.25  0.58968  0.62499  0.55247  0.48174  0.67967  \n",
       "0.50  0.72208  0.73118  0.73284  0.76899  0.79161  \n",
       "0.75  0.77173  0.77696  0.79350  0.81117  0.82376  \n",
       "1.00  0.82640  0.82964  0.83962  0.84777  0.84689  \n",
       "\n",
       "[4 rows x 25 columns]"
      ]
     },
     "execution_count": 38,
     "metadata": {},
     "output_type": "execute_result"
    }
   ],
   "source": [
    "LDA"
   ]
  },
  {
   "cell_type": "code",
   "execution_count": 43,
   "metadata": {},
   "outputs": [
    {
     "data": {
      "image/png": "[encoded data removed]",
      "text/plain": [
       "<Figure size 1440x288 with 2 Axes>"
      ]
     },
     "metadata": {
      "needs_background": "light"
     },
     "output_type": "display_data"
    }
   ],
   "source": [
    "import seaborn as sn\n",
    "import matplotlib.pyplot as plt\n",
    "fig, ax = plt.subplots(figsize=(20, 4))\n",
    "\n",
    "sn.heatmap(LDA, ax=ax)\n",
    "ax.set_xticklabels([round(cor, 2) for cor in corrs])\n",
    "plt.xticks(rotation=0)\n",
    "ax.set_xlabel('Correlations')\n",
    "_ = ax.set_ylabel('Means')"
   ]
  },
  {
   "cell_type": "code",
   "execution_count": 44,
   "metadata": {},
   "outputs": [
    {
     "data": {
      "image/png": "[encoded data removed]",
      "text/plain": [
       "<Figure size 1440x288 with 2 Axes>"
      ]
     },
     "metadata": {
      "needs_background": "light"
     },
     "output_type": "display_data"
    }
   ],
   "source": [
    "import seaborn as sn\n",
    "import matplotlib.pyplot as plt\n",
    "fig, ax = plt.subplots(figsize=(20, 4))\n",
    "sn.heatmap(QDA, ax=ax)\n",
    "ax.set_xticklabels([round(cor, 2) for cor in corrs])\n",
    "\n",
    "plt.xticks(rotation=0)\n",
    "ax.set_xlabel('Correlations')\n",
    "_ = ax.set_ylabel('Means')"
   ]
  }
 ],
 "metadata": {
  "kernelspec": {
   "display_name": "Python 3",
   "language": "python",
   "name": "python3"
  },
  "language_info": {
   "codemirror_mode": {
    "name": "ipython",
    "version": 3
   },
   "file_extension": ".py",
   "mimetype": "text/x-python",
   "name": "python",
   "nbconvert_exporter": "python",
   "pygments_lexer": "ipython3",
   "version": "3.6.9"
  }
 },
 "nbformat": 4,
 "nbformat_minor": 5
}
