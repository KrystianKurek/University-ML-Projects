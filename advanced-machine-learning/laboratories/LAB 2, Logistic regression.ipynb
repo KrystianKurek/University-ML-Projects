{
 "cells": [
  {
   "cell_type": "code",
   "execution_count": 74,
   "id": "de90b1b9",
   "metadata": {},
   "outputs": [],
   "source": [
    "import pandas as pd\n",
    "import numpy as np\n",
    "from sklearn import datasets, linear_model\n",
    "import statsmodels.api as sm\n",
    "from scipy import stats\n",
    "import math\n",
    "from sklearn.linear_model import LassoLarsIC, LogisticRegression\n",
    "import seaborn as sn \n",
    "from matplotlib import pyplot as plt"
   ]
  },
  {
   "cell_type": "markdown",
   "id": "cbeaac70",
   "metadata": {},
   "source": [
    "## Ex 1"
   ]
  },
  {
   "cell_type": "code",
   "execution_count": 2,
   "id": "fe656f1d",
   "metadata": {},
   "outputs": [
    {
     "data": {
      "text/html": [
       "<div>\n",
       "<style scoped>\n",
       "    .dataframe tbody tr th:only-of-type {\n",
       "        vertical-align: middle;\n",
       "    }\n",
       "\n",
       "    .dataframe tbody tr th {\n",
       "        vertical-align: top;\n",
       "    }\n",
       "\n",
       "    .dataframe thead th {\n",
       "        text-align: right;\n",
       "    }\n",
       "</style>\n",
       "<table border=\"1\" class=\"dataframe\">\n",
       "  <thead>\n",
       "    <tr style=\"text-align: right;\">\n",
       "      <th></th>\n",
       "      <th>Sbp</th>\n",
       "      <th>Tobacco</th>\n",
       "      <th>Ldl</th>\n",
       "      <th>Adiposity</th>\n",
       "      <th>Famhist</th>\n",
       "      <th>Typea</th>\n",
       "      <th>Obesity</th>\n",
       "      <th>Alcohol</th>\n",
       "      <th>Age</th>\n",
       "      <th>Chd</th>\n",
       "    </tr>\n",
       "  </thead>\n",
       "  <tbody>\n",
       "    <tr>\n",
       "      <th>0</th>\n",
       "      <td>160</td>\n",
       "      <td>12.00</td>\n",
       "      <td>5.73</td>\n",
       "      <td>23.11</td>\n",
       "      <td>1</td>\n",
       "      <td>49</td>\n",
       "      <td>25.30</td>\n",
       "      <td>97.20</td>\n",
       "      <td>52</td>\n",
       "      <td>1</td>\n",
       "    </tr>\n",
       "    <tr>\n",
       "      <th>1</th>\n",
       "      <td>144</td>\n",
       "      <td>0.01</td>\n",
       "      <td>4.41</td>\n",
       "      <td>28.61</td>\n",
       "      <td>0</td>\n",
       "      <td>55</td>\n",
       "      <td>28.87</td>\n",
       "      <td>2.06</td>\n",
       "      <td>63</td>\n",
       "      <td>1</td>\n",
       "    </tr>\n",
       "    <tr>\n",
       "      <th>2</th>\n",
       "      <td>118</td>\n",
       "      <td>0.08</td>\n",
       "      <td>3.48</td>\n",
       "      <td>32.28</td>\n",
       "      <td>1</td>\n",
       "      <td>52</td>\n",
       "      <td>29.14</td>\n",
       "      <td>3.81</td>\n",
       "      <td>46</td>\n",
       "      <td>0</td>\n",
       "    </tr>\n",
       "    <tr>\n",
       "      <th>3</th>\n",
       "      <td>170</td>\n",
       "      <td>7.50</td>\n",
       "      <td>6.41</td>\n",
       "      <td>38.03</td>\n",
       "      <td>1</td>\n",
       "      <td>51</td>\n",
       "      <td>31.99</td>\n",
       "      <td>24.26</td>\n",
       "      <td>58</td>\n",
       "      <td>1</td>\n",
       "    </tr>\n",
       "    <tr>\n",
       "      <th>4</th>\n",
       "      <td>134</td>\n",
       "      <td>13.60</td>\n",
       "      <td>3.50</td>\n",
       "      <td>27.78</td>\n",
       "      <td>1</td>\n",
       "      <td>60</td>\n",
       "      <td>25.99</td>\n",
       "      <td>57.34</td>\n",
       "      <td>49</td>\n",
       "      <td>1</td>\n",
       "    </tr>\n",
       "  </tbody>\n",
       "</table>\n",
       "</div>"
      ],
      "text/plain": [
       "   Sbp  Tobacco   Ldl  Adiposity  Famhist  Typea  Obesity  Alcohol  Age  Chd\n",
       "0  160    12.00  5.73      23.11        1     49    25.30    97.20   52    1\n",
       "1  144     0.01  4.41      28.61        0     55    28.87     2.06   63    1\n",
       "2  118     0.08  3.48      32.28        1     52    29.14     3.81   46    0\n",
       "3  170     7.50  6.41      38.03        1     51    31.99    24.26   58    1\n",
       "4  134    13.60  3.50      27.78        1     60    25.99    57.34   49    1"
      ]
     },
     "execution_count": 2,
     "metadata": {},
     "output_type": "execute_result"
    }
   ],
   "source": [
    "df = pd.read_csv('saheart.dat', skiprows=14, header=None)\n",
    "df.columns = ['Sbp','Tobacco','Ldl','Adiposity','Famhist','Typea','Obesity','Alcohol','Age','Chd']\n",
    "df['Famhist'] = df['Famhist'].apply(lambda x: 1 if x == 'Present' else 0)\n",
    "df.head()"
   ]
  },
  {
   "cell_type": "markdown",
   "id": "917d7d3c",
   "metadata": {},
   "source": [
    "### Fit logistic regression model, treating chd as response variable"
   ]
  },
  {
   "cell_type": "code",
   "execution_count": 5,
   "id": "ed279347",
   "metadata": {},
   "outputs": [
    {
     "name": "stdout",
     "output_type": "stream",
     "text": [
      "Optimization terminated successfully.\n",
      "         Current function value: 0.510974\n",
      "         Iterations 6\n",
      "                           Logit Regression Results                           \n",
      "==============================================================================\n",
      "Dep. Variable:                    Chd   No. Observations:                  462\n",
      "Model:                          Logit   Df Residuals:                      452\n",
      "Method:                           MLE   Df Model:                            9\n",
      "Date:                Mon, 14 Mar 2022   Pseudo R-squ.:                  0.2080\n",
      "Time:                        12:54:18   Log-Likelihood:                -236.07\n",
      "converged:                       True   LL-Null:                       -298.05\n",
      "Covariance Type:            nonrobust   LLR p-value:                 2.055e-22\n",
      "==============================================================================\n",
      "                 coef    std err          z      P>|z|      [0.025      0.975]\n",
      "------------------------------------------------------------------------------\n",
      "const         -6.1507      1.308     -4.701      0.000      -8.715      -3.587\n",
      "Sbp            0.0065      0.006      1.135      0.256      -0.005       0.018\n",
      "Tobacco        0.0794      0.027      2.984      0.003       0.027       0.132\n",
      "Ldl            0.1739      0.060      2.915      0.004       0.057       0.291\n",
      "Adiposity      0.0186      0.029      0.635      0.526      -0.039       0.076\n",
      "Famhist        0.9254      0.228      4.061      0.000       0.479       1.372\n",
      "Typea          0.0396      0.012      3.214      0.001       0.015       0.064\n",
      "Obesity       -0.0629      0.044     -1.422      0.155      -0.150       0.024\n",
      "Alcohol        0.0001      0.004      0.027      0.978      -0.009       0.009\n",
      "Age            0.0452      0.012      3.728      0.000       0.021       0.069\n",
      "==============================================================================\n"
     ]
    }
   ],
   "source": [
    "y = df['Chd']\n",
    "X = df.drop('Chd', axis=1)\n",
    "\n",
    "X2 = sm.add_constant(X)\n",
    "est = sm.Logit(y, X2)\n",
    "est2 = est.fit()\n",
    "print(est2.summary())"
   ]
  },
  {
   "cell_type": "markdown",
   "id": "8ac28ab4",
   "metadata": {},
   "source": [
    "### Which variables are significant in the full model?"
   ]
  },
  {
   "cell_type": "markdown",
   "id": "386a6bac",
   "metadata": {},
   "source": [
    "#### Tobacco Ldl Famhist Typea Age"
   ]
  },
  {
   "cell_type": "markdown",
   "id": "ab61a5e7",
   "metadata": {},
   "source": [
    "### Compute odds ratio for the logistic model in which we increase variable Age by 1, whereas all remaining variables are fixed"
   ]
  },
  {
   "cell_type": "code",
   "execution_count": 11,
   "id": "a397a590",
   "metadata": {},
   "outputs": [
    {
     "data": {
      "text/plain": [
       "1.046263608466679"
      ]
     },
     "execution_count": 11,
     "metadata": {},
     "output_type": "execute_result"
    }
   ],
   "source": [
    "B_age = est2.params.values[-1]\n",
    "math.e**B_age"
   ]
  },
  {
   "cell_type": "markdown",
   "id": "d9bfc390",
   "metadata": {},
   "source": [
    "### Perform feature selection using information criteria AIC and BIC"
   ]
  },
  {
   "cell_type": "code",
   "execution_count": 16,
   "id": "169253eb",
   "metadata": {},
   "outputs": [
    {
     "data": {
      "text/plain": [
       "['Sbp', 'Tobacco', 'Ldl', 'Famhist', 'Typea', 'Obesity', 'Age']"
      ]
     },
     "execution_count": 16,
     "metadata": {},
     "output_type": "execute_result"
    }
   ],
   "source": [
    "model = LassoLarsIC().fit(X, y)\n",
    "[X.columns[i] for i in range(len(model.coef_)) if model.coef_[i] != 0]"
   ]
  },
  {
   "cell_type": "code",
   "execution_count": 17,
   "id": "fe23b5f1",
   "metadata": {},
   "outputs": [
    {
     "data": {
      "text/plain": [
       "['Tobacco', 'Ldl', 'Famhist', 'Typea', 'Age']"
      ]
     },
     "execution_count": 17,
     "metadata": {},
     "output_type": "execute_result"
    }
   ],
   "source": [
    "model = LassoLarsIC('bic').fit(X, y)\n",
    "[X.columns[i] for i in range(len(model.coef_)) if model.coef_[i] != 0]"
   ]
  },
  {
   "cell_type": "markdown",
   "id": "7068970b",
   "metadata": {},
   "source": [
    "## Ex 2"
   ]
  },
  {
   "cell_type": "code",
   "execution_count": 21,
   "id": "ee13cd27",
   "metadata": {},
   "outputs": [],
   "source": [
    "df = pd.read_csv('earthquake.txt', sep=' ')"
   ]
  },
  {
   "cell_type": "markdown",
   "id": "7998730a",
   "metadata": {},
   "source": [
    "### Make scatterplot for variables body and surface. Mark classes corresponding to observations"
   ]
  },
  {
   "cell_type": "code",
   "execution_count": 25,
   "id": "5f2bc11f",
   "metadata": {},
   "outputs": [
    {
     "data": {
      "text/plain": [
       "<AxesSubplot:xlabel='body', ylabel='surface'>"
      ]
     },
     "execution_count": 25,
     "metadata": {},
     "output_type": "execute_result"
    },
    {
     "data": {
      "image/png": "[encoded data removed]",
      "text/plain": [
       "<Figure size 432x288 with 1 Axes>"
      ]
     },
     "metadata": {
      "needs_background": "light"
     },
     "output_type": "display_data"
    }
   ],
   "source": [
    "sn.scatterplot(x='body', y='surface', hue='popn', data=df)"
   ]
  },
  {
   "cell_type": "markdown",
   "id": "82d54e33",
   "metadata": {},
   "source": [
    "### Fit logistic model and perform Wald test (test for significance of the coefficients). "
   ]
  },
  {
   "cell_type": "code",
   "execution_count": 30,
   "id": "16bccd0a",
   "metadata": {},
   "outputs": [],
   "source": [
    "df['popn'] = df['popn'].apply(lambda x: 1 if x == 'equake' else 0)"
   ]
  },
  {
   "cell_type": "code",
   "execution_count": 31,
   "id": "e9dfb987",
   "metadata": {},
   "outputs": [
    {
     "name": "stdout",
     "output_type": "stream",
     "text": [
      "Warning: Maximum number of iterations has been exceeded.\n",
      "         Current function value: 0.000000\n",
      "         Iterations: 35\n",
      "                           Logit Regression Results                           \n",
      "==============================================================================\n",
      "Dep. Variable:                   popn   No. Observations:                   29\n",
      "Model:                          Logit   Df Residuals:                       26\n",
      "Method:                           MLE   Df Model:                            2\n",
      "Date:                Mon, 14 Mar 2022   Pseudo R-squ.:                   1.000\n",
      "Time:                        13:12:00   Log-Likelihood:            -4.0121e-08\n",
      "converged:                      False   LL-Null:                       -17.962\n",
      "Covariance Type:            nonrobust   LLR p-value:                 1.582e-08\n",
      "==============================================================================\n",
      "                 coef    std err          z      P>|z|      [0.025      0.975]\n",
      "------------------------------------------------------------------------------\n",
      "const        963.3217   4.45e+06      0.000      1.000   -8.73e+06    8.73e+06\n",
      "body        -234.6354   1.87e+05     -0.001      0.999   -3.67e+05    3.67e+05\n",
      "surface       86.6716   8.16e+05      0.000      1.000    -1.6e+06     1.6e+06\n",
      "==============================================================================\n",
      "\n",
      "Complete Separation: The results show that there iscomplete separation.\n",
      "In this case the Maximum Likelihood Estimator does not exist and the parameters\n",
      "are not identified.\n"
     ]
    },
    {
     "name": "stderr",
     "output_type": "stream",
     "text": [
      "/home/samba/kurekk/.local/lib/python3.9/site-packages/statsmodels/base/model.py:604: ConvergenceWarning: Maximum Likelihood optimization failed to converge. Check mle_retvals\n",
      "  warnings.warn(\"Maximum Likelihood optimization failed to \"\n"
     ]
    }
   ],
   "source": [
    "y = df['popn']\n",
    "X = df.drop('popn', axis=1)\n",
    "\n",
    "X2 = sm.add_constant(X)\n",
    "est = sm.Logit(y, X2)\n",
    "est2 = est.fit()\n",
    "print(est2.summary())"
   ]
  },
  {
   "cell_type": "markdown",
   "id": "5d91059a",
   "metadata": {},
   "source": [
    "### How to explain the fact that the test indicates that both variables are not significant in the full model?\n",
    "Class are linearly separable and logistic regression model can't choose which linear function is the best separator. This is a source of converge failure. "
   ]
  },
  {
   "cell_type": "markdown",
   "id": "2d44e516",
   "metadata": {},
   "source": [
    "## Ex 3"
   ]
  },
  {
   "cell_type": "code",
   "execution_count": 90,
   "id": "ace5e4b0",
   "metadata": {},
   "outputs": [
    {
     "name": "stdout",
     "output_type": "stream",
     "text": [
      "50\n",
      "60\n",
      "100\n",
      "150\n",
      "200\n",
      "250\n",
      "300\n"
     ]
    }
   ],
   "source": [
    "ns = [50, 60, 100, 150, 200, 250, 300]\n",
    "L = 500\n",
    "B = np.array([0.0, 1.0, 1.0]).reshape(1, 3)\n",
    "MSEs = []\n",
    "for n in ns:\n",
    "    print(n)\n",
    "    tmp_mses = []\n",
    "    for _ in range(L):\n",
    "        X = np.random.normal(0, 1, size=(n,2))\n",
    "        X = np.concatenate([np.ones(shape=(n,1)), X], axis=1) # I add interecpt to data...\n",
    "\n",
    "        p = 1.0/(1.0 + np.exp(-B@X.T)).flatten()\n",
    "        y = np.random.binomial(n=1, p=p)\n",
    "\n",
    "\n",
    "        model = LogisticRegression(penalty='none', fit_intercept=False).fit(X, y) # ...so I skip intercept here\n",
    "        mse = (model.coef_.flatten() - B)**2\n",
    "        mse = np.sqrt(mse@mse.T)\n",
    "        tmp_mses.append(mse)\n",
    "    MSEs.append(np.mean(tmp_mses))"
   ]
  },
  {
   "cell_type": "code",
   "execution_count": 91,
   "id": "91643029",
   "metadata": {},
   "outputs": [
    {
     "data": {
      "text/plain": [
       "[<matplotlib.lines.Line2D at 0x7f78a5748970>]"
      ]
     },
     "execution_count": 91,
     "metadata": {},
     "output_type": "execute_result"
    },
    {
     "data": {
      "image/png": "[encoded data removed]",
      "text/plain": [
       "<Figure size 432x288 with 1 Axes>"
      ]
     },
     "metadata": {
      "needs_background": "light"
     },
     "output_type": "display_data"
    }
   ],
   "source": [
    "plt.plot(ns, MSEs)"
   ]
  }
 ],
 "metadata": {
  "kernelspec": {
   "display_name": "Python 3 (ipykernel)",
   "language": "python",
   "name": "python3"
  },
  "language_info": {
   "codemirror_mode": {
    "name": "ipython",
    "version": 3
   },
   "file_extension": ".py",
   "mimetype": "text/x-python",
   "name": "python",
   "nbconvert_exporter": "python",
   "pygments_lexer": "ipython3",
   "version": "3.9.6"
  }
 },
 "nbformat": 4,
 "nbformat_minor": 5
}
