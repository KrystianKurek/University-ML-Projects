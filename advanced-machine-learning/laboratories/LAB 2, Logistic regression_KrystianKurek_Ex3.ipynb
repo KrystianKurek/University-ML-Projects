{
 "cells": [
  {
   "cell_type": "code",
   "execution_count": 1,
   "metadata": {},
   "outputs": [],
   "source": [
    "import numpy as np\n",
    "from sklearn.linear_model import LassoLarsIC, LogisticRegression\n",
    "from matplotlib import pyplot as plt"
   ]
  },
  {
   "cell_type": "markdown",
   "metadata": {},
   "source": [
    "## Ex 3"
   ]
  },
  {
   "cell_type": "code",
   "execution_count": 2,
   "metadata": {},
   "outputs": [
    {
     "name": "stdout",
     "output_type": "stream",
     "text": [
      "50\n",
      "60\n",
      "100\n",
      "150\n",
      "200\n",
      "250\n",
      "300\n"
     ]
    }
   ],
   "source": [
    "ns = [50, 60, 100, 150, 200, 250, 300]\n",
    "L = 500\n",
    "B = np.array([0.0, 1.0, 1.0]).reshape(1, 3)\n",
    "MSEs = []\n",
    "for n in ns:\n",
    "    print(n)\n",
    "    tmp_mses = []\n",
    "    for _ in range(L):\n",
    "        X = np.random.normal(0, 1, size=(n,2))\n",
    "        X = np.concatenate([np.ones(shape=(n,1)), X], axis=1) # I add interecpt to data...\n",
    "\n",
    "        p = 1.0/(1.0 + np.exp(-B@X.T)).flatten()\n",
    "        y = np.random.binomial(n=1, p=p)\n",
    "\n",
    "\n",
    "        model = LogisticRegression(penalty='none', fit_intercept=False).fit(X, y) # ...so I skip intercept here\n",
    "        mse = (model.coef_.flatten() - B)**2\n",
    "        mse = mse@mse.T\n",
    "        tmp_mses.append(mse)\n",
    "    MSEs.append(np.mean(tmp_mses))"
   ]
  },
  {
   "cell_type": "code",
   "execution_count": 3,
   "metadata": {},
   "outputs": [
    {
     "data": {
      "image/png": "[encoded data removed]",
      "text/plain": [
       "<Figure size 432x288 with 1 Axes>"
      ]
     },
     "metadata": {
      "needs_background": "light"
     },
     "output_type": "display_data"
    }
   ],
   "source": [
    "plt.plot(ns, MSEs)\n",
    "plt.xlabel('Number of samples')\n",
    "_ = plt.ylabel('MSE')"
   ]
  },
  {
   "cell_type": "code",
   "execution_count": null,
   "metadata": {},
   "outputs": [],
   "source": []
  }
 ],
 "metadata": {
  "kernelspec": {
   "display_name": "Python 3",
   "language": "python",
   "name": "python3"
  },
  "language_info": {
   "codemirror_mode": {
    "name": "ipython",
    "version": 3
   },
   "file_extension": ".py",
   "mimetype": "text/x-python",
   "name": "python",
   "nbconvert_exporter": "python",
   "pygments_lexer": "ipython3",
   "version": "3.6.9"
  }
 },
 "nbformat": 4,
 "nbformat_minor": 5
}
