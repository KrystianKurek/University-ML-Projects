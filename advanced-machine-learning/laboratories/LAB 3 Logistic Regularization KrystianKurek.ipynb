{
 "cells": [
  {
   "cell_type": "code",
   "execution_count": 1,
   "metadata": {},
   "outputs": [],
   "source": [
    "import numpy as np\n",
    "from sklearn.linear_model import LassoLarsIC, LogisticRegression, LogisticRegressionCV\n",
    "from matplotlib import pyplot as plt\n",
    "import pandas as pd\n",
    "from sklearn.preprocessing import MinMaxScaler, Normalizer\n",
    "import warnings\n",
    "from scipy.stats import norm\n",
    "warnings.filterwarnings(\"ignore\")"
   ]
  },
  {
   "cell_type": "code",
   "execution_count": 5,
   "metadata": {},
   "outputs": [],
   "source": [
    "def PSR(true_b, pred_b):\n",
    "    true_b = {i for i, b in enumerate(true_b.flatten()) if b != 0}\n",
    "    pred_b = {i for i, b in enumerate(pred_b.flatten())  if b != 0}\n",
    "    return len(true_b & pred_b)/len(true_b)  if true_b else 0 \n",
    "    \n",
    "def FDR(true_b, pred_b):\n",
    "    true_b = {i for i, b in enumerate(true_b.flatten())  if b != 0}\n",
    "    pred_b = {i for i, b in enumerate(pred_b.flatten())  if b != 0}\n",
    "    return len(pred_b.difference(true_b))/len(pred_b) if pred_b else 0 \n",
    "\n",
    "\n",
    "\n",
    "def generate_and_fit(n_samples, n_rel_variables, n_irrel_variables, p_func='sigmoid'): \n",
    "    B = np.array([1.0]*(n_rel_variables) + [0.0]*(n_irrel_variables)).reshape(1, n_rel_variables+n_irrel_variables)\n",
    "    X = np.random.normal(0, 1, size=(n_samples,n_rel_variables+n_irrel_variables))\n",
    "\n",
    "    if p_func == 'sigmoid':\n",
    "        p = 1.0/(1.0 + np.exp(-B@X.T)).flatten()\n",
    "    elif p_func == 'norm_cdf':\n",
    "        p = norm.cdf(B@X.T).flatten()\n",
    "    y = np.random.binomial(n=1, p=p)\n",
    "    \n",
    "    X = np.concatenate([X, np.ones(shape=(n_samples,1))], axis=1) # I add interecpt to data...\n",
    "    model = LogisticRegressionCV(penalty='l1', cv=10, fit_intercept=False, solver='liblinear', max_iter=1000).fit(X, y) # ...so I skip intercept here\n",
    "    return model, B\n",
    "model, B = generate_and_fit(100, 10, 10)\n"
   ]
  },
  {
   "cell_type": "markdown",
   "metadata": {},
   "source": [
    "### best lambda : "
   ]
  },
  {
   "cell_type": "code",
   "execution_count": 6,
   "metadata": {},
   "outputs": [
    {
     "data": {
      "text/plain": [
       "2.782559402207126"
      ]
     },
     "execution_count": 6,
     "metadata": {},
     "output_type": "execute_result"
    }
   ],
   "source": [
    "1/model.Cs_[model.scores_[1].mean(-1).argmax()]"
   ]
  },
  {
   "cell_type": "code",
   "execution_count": 7,
   "metadata": {},
   "outputs": [
    {
     "name": "stdout",
     "output_type": "stream",
     "text": [
      "PSR\n",
      "1.0\n",
      "FDR\n",
      "0.0\n"
     ]
    }
   ],
   "source": [
    "print('PSR')\n",
    "print(PSR(model.coef_[:,:10], B))\n",
    "print('FDR')\n",
    "print(FDR(model.coef_[:,:10], B))"
   ]
  },
  {
   "cell_type": "code",
   "execution_count": 8,
   "metadata": {},
   "outputs": [
    {
     "name": "stdout",
     "output_type": "stream",
     "text": [
      "PSR\n",
      "0.6164871745042023\n",
      "FDR\n",
      "0.016\n"
     ]
    }
   ],
   "source": [
    "L = 100\n",
    "psrs = []\n",
    "fdrs = []\n",
    "for _ in range(L):\n",
    "    model, B = generate_and_fit(100, 10, 10)\n",
    "    psrs.append(PSR(model.coef_[:,:20], B))\n",
    "    fdrs.append(FDR(model.coef_[:,:20], B))\n",
    "print('PSR')\n",
    "print(np.mean(psrs))\n",
    "print('FDR')\n",
    "print(np.mean(fdrs))\n"
   ]
  },
  {
   "cell_type": "code",
   "execution_count": 9,
   "metadata": {
    "scrolled": true
   },
   "outputs": [
    {
     "name": "stdout",
     "output_type": "stream",
     "text": [
      "50\n",
      "100\n",
      "300\n",
      "500\n",
      "1000\n",
      "2000\n"
     ]
    },
    {
     "data": {
      "text/plain": [
       "<matplotlib.legend.Legend at 0x2c7a238ad68>"
      ]
     },
     "execution_count": 9,
     "metadata": {},
     "output_type": "execute_result"
    },
    {
     "data": {
      "image/png": "[encoded data removed]",
      "text/plain": [
       "<Figure size 432x288 with 1 Axes>"
      ]
     },
     "metadata": {
      "needs_background": "light"
     },
     "output_type": "display_data"
    }
   ],
   "source": [
    "L = 100\n",
    "\n",
    "n_sample = [50, 100, 300, 500, 1000, 2000]\n",
    "psrs = []\n",
    "fdrs = []\n",
    "n_variables = 20\n",
    "for sample_size in n_sample:\n",
    "    print(sample_size)\n",
    "    psrs_tmp = []\n",
    "    fdrs_tmp = []\n",
    "    for _ in range(L):\n",
    "        model, B = generate_and_fit(sample_size, n_variables// 2, n_variables// 2)\n",
    "        psrs_tmp.append(PSR(B, model.coef_[:,:n_variables]))\n",
    "        fdrs_tmp.append(FDR(B, model.coef_[:,:n_variables]))\n",
    "    \n",
    "    psrs.append(np.mean(psrs_tmp))\n",
    "    fdrs.append(np.mean(fdrs_tmp))\n",
    "    \n",
    "plt.plot(n_sample, psrs, label='PSR')\n",
    "plt.plot(n_sample, fdrs, label='FDR')\n",
    "plt.legend()"
   ]
  },
  {
   "cell_type": "code",
   "execution_count": 10,
   "metadata": {},
   "outputs": [
    {
     "name": "stdout",
     "output_type": "stream",
     "text": [
      "10\n",
      "50\n",
      "100\n",
      "200\n",
      "500\n"
     ]
    },
    {
     "data": {
      "text/plain": [
       "<matplotlib.legend.Legend at 0x2c7a2410e10>"
      ]
     },
     "execution_count": 10,
     "metadata": {},
     "output_type": "execute_result"
    },
    {
     "data": {
      "image/png": "[encoded data removed]",
      "text/plain": [
       "<Figure size 432x288 with 1 Axes>"
      ]
     },
     "metadata": {
      "needs_background": "light"
     },
     "output_type": "display_data"
    }
   ],
   "source": [
    "L = 100\n",
    "\n",
    "psrs = []\n",
    "fdrs = []\n",
    "sample_size = 300\n",
    "n_irr_variables = [10, 50, 100, 200, 500] \n",
    "for n_irr_variable in n_irr_variables:\n",
    "    print(n_irr_variable)\n",
    "    psrs_tmp = []\n",
    "    fdrs_tmp = []\n",
    "    for _ in range(L):\n",
    "        model, B = generate_and_fit(sample_size, 10, n_irr_variable)\n",
    "        psrs_tmp.append(PSR(B, model.coef_[:,:10+n_irr_variable]))\n",
    "        fdrs_tmp.append(FDR(B, model.coef_[:,:10+n_irr_variable]))\n",
    "    \n",
    "    psrs.append(np.mean(psrs_tmp))\n",
    "    fdrs.append(np.mean(fdrs_tmp))\n",
    "    \n",
    "plt.plot(n_irr_variables, psrs, label='PSR')\n",
    "plt.plot(n_irr_variables, fdrs, label='FDR')\n",
    "plt.legend()"
   ]
  },
  {
   "cell_type": "markdown",
   "metadata": {},
   "source": [
    "#### change of functions"
   ]
  },
  {
   "cell_type": "code",
   "execution_count": 11,
   "metadata": {},
   "outputs": [
    {
     "name": "stdout",
     "output_type": "stream",
     "text": [
      "50\n",
      "100\n",
      "300\n",
      "500\n",
      "1000\n",
      "2000\n"
     ]
    },
    {
     "data": {
      "text/plain": [
       "<matplotlib.legend.Legend at 0x2c7a24f3b00>"
      ]
     },
     "execution_count": 11,
     "metadata": {},
     "output_type": "execute_result"
    },
    {
     "data": {
      "image/png": "[encoded data removed]",
      "text/plain": [
       "<Figure size 432x288 with 1 Axes>"
      ]
     },
     "metadata": {
      "needs_background": "light"
     },
     "output_type": "display_data"
    }
   ],
   "source": [
    "L = 100\n",
    "\n",
    "n_sample = [50, 100, 300, 500, 1000, 2000]\n",
    "psrs = []\n",
    "fdrs = []\n",
    "n_variables = 20\n",
    "for sample_size in n_sample:\n",
    "    print(sample_size)\n",
    "    psrs_tmp = []\n",
    "    fdrs_tmp = []\n",
    "    for _ in range(L):\n",
    "        model, B = generate_and_fit(sample_size, n_variables// 2, n_variables// 2, p_func='norm_cdf')\n",
    "        psrs_tmp.append(PSR(B, model.coef_[:,:n_variables]))\n",
    "        fdrs_tmp.append(FDR(B, model.coef_[:,:n_variables]))\n",
    "    \n",
    "    psrs.append(np.mean(psrs_tmp))\n",
    "    fdrs.append(np.mean(fdrs_tmp))\n",
    "    \n",
    "plt.plot(n_sample, psrs, label='PSR')\n",
    "plt.plot(n_sample, fdrs, label='FDR')\n",
    "plt.legend()"
   ]
  },
  {
   "cell_type": "code",
   "execution_count": 12,
   "metadata": {},
   "outputs": [
    {
     "name": "stdout",
     "output_type": "stream",
     "text": [
      "10\n",
      "50\n",
      "100\n",
      "200\n",
      "500\n"
     ]
    },
    {
     "data": {
      "text/plain": [
       "<matplotlib.legend.Legend at 0x2c7a26b7278>"
      ]
     },
     "execution_count": 12,
     "metadata": {},
     "output_type": "execute_result"
    },
    {
     "data": {
      "image/png": "[encoded data removed]",
      "text/plain": [
       "<Figure size 432x288 with 1 Axes>"
      ]
     },
     "metadata": {
      "needs_background": "light"
     },
     "output_type": "display_data"
    }
   ],
   "source": [
    "L = 100\n",
    "\n",
    "psrs = []\n",
    "fdrs = []\n",
    "sample_size = 300\n",
    "n_irr_variables = [10, 50, 100, 200, 500] \n",
    "for n_irr_variable in n_irr_variables:\n",
    "    print(n_irr_variable)\n",
    "    psrs_tmp = []\n",
    "    fdrs_tmp = []\n",
    "    for _ in range(L):\n",
    "        model, B = generate_and_fit(sample_size, 10, n_irr_variable, p_func='norm_cdf')\n",
    "        psrs_tmp.append(PSR(B, model.coef_[:,:10+n_irr_variable]))\n",
    "        fdrs_tmp.append(FDR(B, model.coef_[:,:10+n_irr_variable]))\n",
    "    \n",
    "    psrs.append(np.mean(psrs_tmp))\n",
    "    fdrs.append(np.mean(fdrs_tmp))\n",
    "    \n",
    "plt.plot(n_irr_variables, psrs, label='PSR')\n",
    "plt.plot(n_irr_variables, fdrs, label='FDR')\n",
    "plt.legend()"
   ]
  },
  {
   "cell_type": "code",
   "execution_count": null,
   "metadata": {},
   "outputs": [],
   "source": []
  }
 ],
 "metadata": {
  "kernelspec": {
   "display_name": "Python 3",
   "language": "python",
   "name": "python3"
  },
  "language_info": {
   "codemirror_mode": {
    "name": "ipython",
    "version": 3
   },
   "file_extension": ".py",
   "mimetype": "text/x-python",
   "name": "python",
   "nbconvert_exporter": "python",
   "pygments_lexer": "ipython3",
   "version": "3.6.9"
  }
 },
 "nbformat": 4,
 "nbformat_minor": 5
}
