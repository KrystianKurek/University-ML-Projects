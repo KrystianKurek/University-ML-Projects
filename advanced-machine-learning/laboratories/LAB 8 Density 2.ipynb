{
 "cells": [
  {
   "cell_type": "code",
   "execution_count": 50,
   "metadata": {},
   "outputs": [],
   "source": [
    "from sklearn.neighbors import KernelDensity\n",
    "from sklearn import datasets, model_selection\n",
    "import numpy as np\n",
    "from matplotlib import pyplot as plt\n",
    "from scipy.stats import norm\n",
    "import pandas as pd \n",
    "import seaborn as sn \n",
    "from collections import Counter\n",
    "from sklearn.naive_bayes import GaussianNB, CategoricalNB\n",
    "from sklearn.preprocessing import KBinsDiscretizer\n",
    "from sklearn import metrics\n",
    "from sklearn.discriminant_analysis import LinearDiscriminantAnalysis"
   ]
  },
  {
   "cell_type": "markdown",
   "metadata": {},
   "source": [
    "Select any dataset corresponding to binary classification problem wih quantitative varia-\n",
    "bles. Compare the accuracy of Naive Bayes method (with kernel density estimator), Naive\n",
    "Bayes Method (with Gaussian approximation), Naive Bayes method (with discretization\n",
    "of quantitative features) and LDA."
   ]
  },
  {
   "cell_type": "code",
   "execution_count": 51,
   "metadata": {},
   "outputs": [],
   "source": [
    "EPS = 10e-8"
   ]
  },
  {
   "cell_type": "code",
   "execution_count": 52,
   "metadata": {},
   "outputs": [],
   "source": [
    "X, Y = datasets.load_breast_cancer(return_X_y=True, as_frame=True)"
   ]
  },
  {
   "cell_type": "code",
   "execution_count": 53,
   "metadata": {},
   "outputs": [],
   "source": [
    "x_train, x_test, y_train, y_test = model_selection.train_test_split(X, Y)"
   ]
  },
  {
   "cell_type": "code",
   "execution_count": 54,
   "metadata": {},
   "outputs": [
    {
     "data": {
      "text/plain": [
       "0.9440559440559441"
      ]
     },
     "execution_count": 54,
     "metadata": {},
     "output_type": "execute_result"
    }
   ],
   "source": [
    "class DiscretizeNB: \n",
    "    def __init__(self): \n",
    "        pass\n",
    "    \n",
    "    def fit(self, x, y): \n",
    "        x, y = x.values, y.values\n",
    "        self.discretizers = [KBinsDiscretizer(n_bins=10, encode='ordinal').fit(x[:, i].reshape(-1, 1))\\\n",
    "                                  for i in range(x.shape[1])]\n",
    "        x_bins = [self.discretizers[i].transform(x[:, i].reshape(-1, 1)) for i in range(x.shape[1])]\n",
    "        x_bins = np.concatenate(x_bins, axis=1)\n",
    "        self.nb = CategoricalNB().fit(x_bins, y)\n",
    "        return self \n",
    "    \n",
    "    def transform(self, x):\n",
    "        x = x.values\n",
    "        x_bins = [self.discretizers[i].transform(x[:, i].reshape(-1, 1)) for i in range(x.shape[1])]\n",
    "        x_bins = np.concatenate(x_bins, axis=1)\n",
    "        return self.nb.predict(x_bins)\n",
    "    \n",
    "kdnb = DiscretizeNB().fit(x_train, y_train)  \n",
    "(kdnb.transform(x_test) == y_test).sum() / len(y_test) "
   ]
  },
  {
   "cell_type": "code",
   "execution_count": 55,
   "metadata": {},
   "outputs": [
    {
     "data": {
      "text/plain": [
       "0.9090909090909091"
      ]
     },
     "execution_count": 55,
     "metadata": {},
     "output_type": "execute_result"
    }
   ],
   "source": [
    "class KernelDensityNB: \n",
    "    def __init__(self): \n",
    "        pass\n",
    "    \n",
    "    def fit(self, x, y): \n",
    "        #x_plot_pred = np.exp(KernelDensity(bandwidth=0.3, kernel='epanechnikov')\\\n",
    "        #             .fit(true_x.reshape(-1, 1))\\\n",
    "        #             .score_samples(x_plot))\n",
    "        x, y = x.values, y.values\n",
    "        self.density_aproxs = {}\n",
    "        x_zero = x[y==0]\n",
    "        self.density_aproxs[0] = [KernelDensity(bandwidth=1, kernel='epanechnikov')\\\n",
    "                                  .fit(x_zero[:,i].reshape(-1, 1))\\\n",
    "                                  for i in range(x_zero.shape[1])]\n",
    "        x_one = x[y==1]\n",
    "        self.density_aproxs[1] = [KernelDensity(bandwidth=1, kernel='epanechnikov').fit(x_one[:,i].reshape(-1, 1))\\\n",
    "                                  for i in range(x_one.shape[1])]\n",
    "        \n",
    "        self.aprioris = {\n",
    "            0: (y == 0).sum()/len(y),\n",
    "            1: (y == 1).sum()/len(y),\n",
    "        }\n",
    "        return self\n",
    "        \n",
    "    def get_prob(self, values, density_estimator): \n",
    "        return np.exp(density_estimator.score_samples(values.reshape(-1, 1)))\n",
    "    \n",
    "    def transform(self, x):\n",
    "        x = x.values\n",
    "        probabilities_zero = [self.get_prob(x[:,i], self.density_aproxs[0][i]) for i in range(x.shape[1])]\n",
    "        probabilities_ones = [self.get_prob(x[:,i], self.density_aproxs[1][i]) for i in range(x.shape[1])]\n",
    "        \n",
    "        probabilities_zero = np.array(probabilities_zero) + EPS\n",
    "        probabilities_ones = np.array(probabilities_ones) + EPS\n",
    "        \n",
    "        probabilities_zero = probabilities_zero.prod(axis=0)\n",
    "        probabilities_ones = probabilities_ones.prod(axis=0)\n",
    "       \n",
    "        probabilities_zero *= self.aprioris[0]\n",
    "        probabilities_ones *= self.aprioris[1]\n",
    "        return (probabilities_zero < probabilities_ones).astype(np.int32)\n",
    "kdnb = KernelDensityNB().fit(x_train, y_train)  \n",
    "(kdnb.transform(x_test) == y_test).sum() / len(y_test)"
   ]
  },
  {
   "cell_type": "code",
   "execution_count": 56,
   "metadata": {},
   "outputs": [],
   "source": [
    "methods = {'Gaussian': GaussianNB, \n",
    "             'KernelDensityEstimation': KernelDensityNB, \n",
    "             'Discretize': DiscretizeNB, \n",
    "            'LDA': LinearDiscriminantAnalysis}"
   ]
  },
  {
   "cell_type": "code",
   "execution_count": 57,
   "metadata": {},
   "outputs": [],
   "source": [
    "def return_accuracy(method):\n",
    "\n",
    "    model = method().fit(x_train, y_train)\n",
    "    try: \n",
    "        y_pred_labels = model.predict(x_test)\n",
    "    except AttributeError:\n",
    "        y_pred_labels = model.transform(x_test)\n",
    "\n",
    "    acc = metrics.accuracy_score(y_test, y_pred_labels)\n",
    "    return acc"
   ]
  },
  {
   "cell_type": "code",
   "execution_count": 58,
   "metadata": {},
   "outputs": [
    {
     "data": {
      "image/png": "[encoded data removed]",
      "text/plain": [
       "<Figure size 648x432 with 1 Axes>"
      ]
     },
     "metadata": {
      "needs_background": "light"
     },
     "output_type": "display_data"
    }
   ],
   "source": [
    "method_names = []\n",
    "accs = []\n",
    "for method_name, method in methods.items(): \n",
    "    method_names.append(method_name)\n",
    "    accs.append(return_accuracy(method)) \n",
    "fig, ax = plt.subplots(figsize=(9,6))\n",
    "bars = ax.barh(method_names, accs)\n",
    "for i, v in enumerate(accs):\n",
    "    ax.text(v + 0.05, i, str(round(v,2)) + '%', color='blue', fontweight='bold')\n",
    "_ = ax.set_xlim((0, 1.1))\n",
    "_ = ax.set_xlabel('Accuracy')"
   ]
  }
 ],
 "metadata": {
  "kernelspec": {
   "display_name": "Python 3",
   "language": "python",
   "name": "python3"
  },
  "language_info": {
   "codemirror_mode": {
    "name": "ipython",
    "version": 3
   },
   "file_extension": ".py",
   "mimetype": "text/x-python",
   "name": "python",
   "nbconvert_exporter": "python",
   "pygments_lexer": "ipython3",
   "version": "3.6.9"
  }
 },
 "nbformat": 4,
 "nbformat_minor": 5
}
