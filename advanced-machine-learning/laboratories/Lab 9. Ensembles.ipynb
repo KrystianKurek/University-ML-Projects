{
 "cells": [
  {
   "cell_type": "code",
   "execution_count": 3,
   "metadata": {},
   "outputs": [],
   "source": [
    "import numpy as np\n",
    "from collections import Counter\n",
    "from sklearn.tree import DecisionTreeClassifier\n",
    "from sklearn.metrics import accuracy_score\n",
    "import warnings\n",
    "from sklearn.ensemble import RandomForestClassifier\n",
    "from xgboost import XGBClassifier\n",
    "import matplotlib.pyplot as plt"
   ]
  },
  {
   "cell_type": "code",
   "execution_count": 4,
   "metadata": {},
   "outputs": [],
   "source": [
    "def generate_dataset(n): \n",
    "    X = np.random.normal(size=(n, 10))\n",
    "    X_sum = np.power(X, 2).sum(axis=1)\n",
    "    Y = np.zeros(X_sum.shape)\n",
    "    median = 9.34182\n",
    "    Y[X_sum > median] = 1.0\n",
    "    return X, Y \n",
    "x_train, y_train = generate_dataset(10000)\n",
    "x_test, y_test = generate_dataset(2000)"
   ]
  },
  {
   "cell_type": "markdown",
   "metadata": {},
   "source": [
    "- Implement your own version of bagging algorithm. You can use available implementations\n",
    "of decision trees (or other base learners)."
   ]
  },
  {
   "cell_type": "code",
   "execution_count": 5,
   "metadata": {},
   "outputs": [
    {
     "data": {
      "text/plain": [
       "<__main__.Bagging at 0x24e38bb90b8>"
      ]
     },
     "execution_count": 5,
     "metadata": {},
     "output_type": "execute_result"
    }
   ],
   "source": [
    "class Bagging: \n",
    "    def __init__(self, n_estimators=100): \n",
    "        self.n_estimators = n_estimators\n",
    "        self.estimators = []\n",
    "        self.errors = []\n",
    "        self.test_errors = []\n",
    "        \n",
    "    def fit(self, x, y, x_test, y_test): \n",
    "        for estimator in range(self.n_estimators): \n",
    "            indices = np.random.choice(range(len(x)), size=y.shape)\n",
    "            x_boot = x[indices]\n",
    "            y_boot = y[indices]\n",
    "            self.estimators.append(DecisionTreeClassifier().fit(x_boot, y_boot))\n",
    "            self.evaluate(x, y, x_test, y_test)\n",
    "        return self \n",
    "    \n",
    "    def predict(self, x): \n",
    "        y_preds = [estimator.predict(x) for estimator in self.estimators]\n",
    "        y_preds = sum(y_preds)\n",
    "        return (y_preds > len(self.estimators)//2).astype(np.int32)\n",
    "    \n",
    "    def score(self, x, y):\n",
    "        y_pred = self.predict(x)\n",
    "        return accuracy_score(y, y_pred)\n",
    "    \n",
    "    def evaluate(self, x, y, x_test, y_test): \n",
    "        error_train = 1 - self.score(x, y)\n",
    "        error_test = 1 - self.score(x_test, y_test)\n",
    "        self.errors.append(error_train)\n",
    "        self.test_errors.append(error_test)\n",
    "        \n",
    "    \n",
    "model = Bagging()\n",
    "model.fit(x_train, y_train, x_test, y_test)"
   ]
  },
  {
   "cell_type": "code",
   "execution_count": 6,
   "metadata": {},
   "outputs": [
    {
     "data": {
      "text/plain": [
       "(1.0, 0.8695)"
      ]
     },
     "execution_count": 6,
     "metadata": {},
     "output_type": "execute_result"
    }
   ],
   "source": [
    "model.score(x_train, y_train), model.score(x_test, y_test)"
   ]
  },
  {
   "cell_type": "markdown",
   "metadata": {},
   "source": [
    "- Implement your own version of AdaBoost algorithm. You can use available implementations\n",
    "of decision trees (or other base learners)."
   ]
  },
  {
   "cell_type": "code",
   "execution_count": 7,
   "metadata": {},
   "outputs": [],
   "source": [
    "def one_hot(x):\n",
    "    b = np.zeros((x.size, int(x.max()+1)))\n",
    "    b[np.arange(x.size),x.astype(np.int32)] = 1\n",
    "    return b\n",
    "    "
   ]
  },
  {
   "cell_type": "code",
   "execution_count": 8,
   "metadata": {},
   "outputs": [
    {
     "data": {
      "text/plain": [
       "(0.9775, 0.938)"
      ]
     },
     "execution_count": 8,
     "metadata": {},
     "output_type": "execute_result"
    }
   ],
   "source": [
    "class AdaBoost: \n",
    "    def __init__(self, n_iters=100): \n",
    "        self.n_iters = n_iters\n",
    "        self.estimators = []\n",
    "        self.b_ks = []\n",
    "        self.errors = []\n",
    "        self.test_errors = []\n",
    "        \n",
    "    def fit(self, x, y, x_test, y_test): \n",
    "        weights = np.ones(y.shape)/len(x)\n",
    "        for n_iter in range(self.n_iters): \n",
    "            self.estimators.append(DecisionTreeClassifier(max_depth=5)\\\n",
    "                                   .fit(x, y, sample_weight=weights))\n",
    "            y_pred = self.estimators[-1].predict(x)\n",
    "            e_k = ((y_pred != y).astype(np.int32) * weights).sum()\n",
    "            b_k = e_k/(1-e_k)\n",
    "            if e_k == 0 or e_k >= 0.5: \n",
    "                warnings.warn(f\"e_k={e_k}, stopping AdaBoost on interation {n_iter} of {self.n_iters}\")\n",
    "                self.estimators = self.estimators[:-1]\n",
    "                break\n",
    "            weights[y_pred == y] = weights[y_pred == y]*b_k\n",
    "            weights = weights/weights.sum()\n",
    "            self.b_ks.append(b_k)\n",
    "            \n",
    "            self.evaluate(x, y, x_test, y_test) \n",
    "        return self \n",
    "    \n",
    "    def predict(self, x): \n",
    "        y_preds = [one_hot(estimator.predict(x))*b_k for estimator, b_k in zip(self.estimators, self.b_ks)]\n",
    "        y_preds = sum(y_preds)\n",
    "        return np.argmax(y_preds, axis=1)\n",
    "    \n",
    "    def score(self, x, y):\n",
    "        y_pred = self.predict(x)\n",
    "        return accuracy_score(y, y_pred)\n",
    "    \n",
    "    def evaluate(self, x, y, x_test, y_test): \n",
    "        error_train = 1 - self.score(x, y)\n",
    "        error_test = 1 - self.score(x_test, y_test)\n",
    "        self.errors.append(error_train)\n",
    "        self.test_errors.append(error_test)\n",
    "        \n",
    "        \n",
    "model = AdaBoost()\n",
    "model.fit(x_train, y_train, x_test, y_test)\n",
    "model.score(x_train, y_train), model.score(x_test, y_test)"
   ]
  },
  {
   "cell_type": "code",
   "execution_count": 9,
   "metadata": {},
   "outputs": [
    {
     "data": {
      "text/plain": [
       "<__main__.AdaBoost at 0x24e38bc45f8>"
      ]
     },
     "execution_count": 9,
     "metadata": {},
     "output_type": "execute_result"
    }
   ],
   "source": [
    "ada_model = AdaBoost(400)\n",
    "ada_model.fit(x_train, y_train, x_test, y_test)"
   ]
  },
  {
   "cell_type": "code",
   "execution_count": 10,
   "metadata": {},
   "outputs": [
    {
     "data": {
      "text/plain": [
       "<__main__.Bagging at 0x24e3cb6f128>"
      ]
     },
     "execution_count": 10,
     "metadata": {},
     "output_type": "execute_result"
    }
   ],
   "source": [
    "bag_model = Bagging(400)\n",
    "bag_model.fit(x_train, y_train, x_test, y_test)"
   ]
  },
  {
   "cell_type": "code",
   "execution_count": 16,
   "metadata": {},
   "outputs": [
    {
     "name": "stdout",
     "output_type": "stream",
     "text": [
      "Bagging\n",
      "AdaBoost\n",
      "RandomForest\n",
      "SingleTree\n",
      "DecisionStump\n",
      "GradientBoosting\n",
      "[19:06:15] WARNING: C:/Users/Administrator/workspace/xgboost-win64_release_1.5.1/src/learner.cc:1115: Starting in XGBoost 1.3.0, the default evaluation metric used with the objective 'binary:logistic' was changed from 'error' to 'logloss'. Explicitly set eval_metric if you'd like to restore the old behavior.\n"
     ]
    },
    {
     "name": "stderr",
     "output_type": "stream",
     "text": [
      "c:\\users\\krystian kurek\\.conda\\envs\\mgr\\lib\\site-packages\\xgboost\\sklearn.py:1224: UserWarning: The use of label encoder in XGBClassifier is deprecated and will be removed in a future release. To remove this warning, do the following: 1) Pass option use_label_encoder=False when constructing XGBClassifier object; and 2) Encode your labels (y) as integers starting with 0, i.e. 0, 1, 2, ..., [num_class - 1].\n",
      "  warnings.warn(label_encoder_deprecation_msg, UserWarning)\n"
     ]
    },
    {
     "data": {
      "text/plain": [
       "<BarContainer object of 6 artists>"
      ]
     },
     "execution_count": 16,
     "metadata": {},
     "output_type": "execute_result"
    },
    {
     "data": {
      "image/png": "[encoded data removed]",
      "text/plain": [
       "<Figure size 648x432 with 1 Axes>"
      ]
     },
     "metadata": {
      "needs_background": "light"
     },
     "output_type": "display_data"
    }
   ],
   "source": [
    "fig, ax = plt.subplots(figsize=(9, 6))\n",
    "\n",
    "classifiers = {'Bagging': Bagging,\n",
    "                 'AdaBoost': AdaBoost,\n",
    "                 'RandomForest': RandomForestClassifier, \n",
    "                'SingleTree': DecisionTreeClassifier,\n",
    "                'DecisionStump': lambda : DecisionTreeClassifier(max_depth=1),\n",
    "                'GradientBoosting': XGBClassifier}\n",
    "\n",
    "classifier_names = []\n",
    "classifier_errors = []\n",
    "for classifier_name, classifier in classifiers.items(): \n",
    "    print(classifier_name)\n",
    "    if classifier_name in {'Bagging', 'AdaBoost'}:\n",
    "        model = classifier(400).fit(x_train, y_train, x_test, y_test)\n",
    "    else: \n",
    "        model = classifier().fit(x_train, y_train)\n",
    "    classifier_names.append(classifier_name)\n",
    "    classifier_errors.append(1 - model.score(x_test, y_test))\n",
    "plt.bar(classifier_names, classifier_errors)"
   ]
  },
  {
   "cell_type": "code",
   "execution_count": 17,
   "metadata": {},
   "outputs": [
    {
     "data": {
      "image/png": "[encoded data removed]",
      "text/plain": [
       "<Figure size 648x432 with 1 Axes>"
      ]
     },
     "metadata": {
      "needs_background": "light"
     },
     "output_type": "display_data"
    }
   ],
   "source": [
    "fig, ax = plt.subplots(figsize=(9, 6))\n",
    "ax.plot(range(400), ada_model.errors, label='ada_train')\n",
    "ax.plot(range(400), ada_model.test_errors, label='ada_test')\n",
    "ax.plot(range(400), bag_model.errors, label='bag_train')\n",
    "ax.plot(range(400), bag_model.test_errors, label='bag_test')\n",
    "ax.plot(range(400), bag_model.test_errors, label='bag_test')\n",
    "ax.axhline(y=classifier_errors[classifier_names.index('GradientBoosting')], color='r', linestyle='-', label='GradientBoosting_test')\n",
    "\n",
    "ax.set_xlabel('n_iters')\n",
    "ax.set_ylabel('error')\n",
    "_ = ax.legend()"
   ]
  }
 ],
 "metadata": {
  "kernelspec": {
   "display_name": "Python 3",
   "language": "python",
   "name": "python3"
  }
 },
 "nbformat": 4,
 "nbformat_minor": 5
}
