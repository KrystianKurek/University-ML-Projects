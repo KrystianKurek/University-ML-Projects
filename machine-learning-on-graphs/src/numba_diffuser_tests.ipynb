{
 "cells": [
  {
   "cell_type": "code",
   "execution_count": 1,
   "metadata": {},
   "outputs": [],
   "source": [
    "from diff2vec.numba.diffuser import create_diffusion_graph_numba\n",
    "from test_utils.samples import get_random_graph_matrix\n",
    "import numpy as np\n",
    "import networkx as nx\n",
    "import time"
   ]
  },
  {
   "attachments": {},
   "cell_type": "markdown",
   "metadata": {},
   "source": [
    "This noetebook containsts time performance tests for different difussion graph creating implementations."
   ]
  },
  {
   "cell_type": "code",
   "execution_count": 2,
   "metadata": {},
   "outputs": [],
   "source": [
    "def create_diffusion_graph(G, start_node, number_of_nodes, seed=2137):\n",
    "    '''just for the time tests: version of diff2vec.diffuser.create_diffusion_graph, but returning vertices and edges instead of nx.Graph'''\n",
    "    np.random.seed(seed)\n",
    "    G_diff_vertices = [start_node]\n",
    "    G_diff_edges = []\n",
    "\n",
    "    for _ in range(number_of_nodes-1):\n",
    "        \n",
    "        while True:\n",
    "            u = np.random.choice(G_diff_vertices)\n",
    "            neighs = list(G.neighbors(u))\n",
    "            not_taken_neighs = np.setdiff1d(neighs, G_diff_vertices)\n",
    "            if len(not_taken_neighs)>0:\n",
    "                break\n",
    "    \n",
    "        w = np.random.choice(not_taken_neighs)\n",
    "\n",
    "        G_diff_vertices.append(w)\n",
    "        G_diff_edges.append((u, w))\n",
    "\n",
    "    return G_diff_vertices, np.array(G_diff_edges)"
   ]
  },
  {
   "cell_type": "code",
   "execution_count": 4,
   "metadata": {},
   "outputs": [],
   "source": [
    "def diffuser_unit_test(N):\n",
    "    print(f\"N: {N}\")\n",
    "    A = get_random_graph_matrix(N)\n",
    "    G = nx.from_numpy_array(A)\n",
    "    print(\"Generation finished\")\n",
    "    \n",
    "    start = time.time()\n",
    "    base = create_diffusion_graph(G, 0, int(0.3*N))\n",
    "    end = time.time()\n",
    "    print(f\"Time base: {end-start}\")\n",
    "\n",
    "    start = time.time()\n",
    "    numba =  create_diffusion_graph_numba(A, 0, int(0.3*N))\n",
    "    end = time.time()\n",
    "    print(f\"Time numba: {end-start}\")\n",
    "\n",
    "    assert (base[0] == numba[0]).all()\n",
    "    assert (base[1] == numba[1]).all()"
   ]
  },
  {
   "cell_type": "code",
   "execution_count": 6,
   "metadata": {},
   "outputs": [
    {
     "name": "stdout",
     "output_type": "stream",
     "text": [
      "N: 1000\n",
      "Generation finished\n",
      "Time base: 0.03700399398803711\n",
      "Time numba: 0.0019986629486083984\n"
     ]
    }
   ],
   "source": [
    "diffuser_unit_test(1000)"
   ]
  },
  {
   "cell_type": "code",
   "execution_count": 464,
   "metadata": {},
   "outputs": [
    {
     "name": "stdout",
     "output_type": "stream",
     "text": [
      "N: 3000\n",
      "Generation finished\n",
      "Time base: 0.32610321044921875\n",
      "Time numba: 0.013834238052368164\n"
     ]
    }
   ],
   "source": [
    "diffuser_unit_test(3000)"
   ]
  },
  {
   "cell_type": "code",
   "execution_count": 466,
   "metadata": {},
   "outputs": [
    {
     "name": "stdout",
     "output_type": "stream",
     "text": [
      "N: 5000\n",
      "Generation finished\n",
      "Time base: 1.1157045364379883\n",
      "Time numba: 0.0485689640045166\n"
     ]
    }
   ],
   "source": [
    "diffuser_unit_test(5000)"
   ]
  },
  {
   "cell_type": "code",
   "execution_count": 467,
   "metadata": {},
   "outputs": [
    {
     "name": "stdout",
     "output_type": "stream",
     "text": [
      "N: 10000\n",
      "Generation finished\n",
      "Time base: 5.5806097984313965\n",
      "Time numba: 0.2123267650604248\n"
     ]
    }
   ],
   "source": [
    "diffuser_unit_test(10000)"
   ]
  },
  {
   "cell_type": "code",
   "execution_count": null,
   "metadata": {},
   "outputs": [],
   "source": []
  }
 ],
 "metadata": {
  "kernelspec": {
   "display_name": ".venv",
   "language": "python",
   "name": "python3"
  },
  "language_info": {
   "codemirror_mode": {
    "name": "ipython",
    "version": 3
   },
   "file_extension": ".py",
   "mimetype": "text/x-python",
   "name": "python",
   "nbconvert_exporter": "python",
   "pygments_lexer": "ipython3",
   "version": "3.9.0"
  },
  "orig_nbformat": 4
 },
 "nbformat": 4,
 "nbformat_minor": 2
}
