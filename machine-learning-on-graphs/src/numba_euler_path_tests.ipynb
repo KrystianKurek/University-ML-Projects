{
 "cells": [
  {
   "cell_type": "code",
   "execution_count": 1,
   "metadata": {},
   "outputs": [],
   "source": [
    "from test_utils.samples import get_random_graph_matrix\n",
    "import networkx as nx\n",
    "import time\n",
    "from diff2vec.feature_extractor import get_euler_path\n",
    "from diff2vec.numba.feature_extractor import get_euler_path_iter_numba"
   ]
  },
  {
   "attachments": {},
   "cell_type": "markdown",
   "metadata": {},
   "source": [
    "This noetebook containsts time performance tests for different Euler path finding implementations."
   ]
  },
  {
   "cell_type": "code",
   "execution_count": 3,
   "metadata": {},
   "outputs": [],
   "source": [
    "def euler_path_unit_test(N):\n",
    "    print(f\"N: {N}\")\n",
    "    A = get_random_graph_matrix(N)\n",
    "    A_multi = A + A\n",
    "    G = nx.from_numpy_array(A_multi, create_using=nx.MultiGraph, parallel_edges=True)\n",
    "    print(\"Generation finished\")\n",
    "    \n",
    "    start = time.time()\n",
    "    base = get_euler_path(G)\n",
    "    end = time.time()\n",
    "    print(f\"Time base: {end-start}\")\n",
    "\n",
    "    start = time.time()\n",
    "    numba =  get_euler_path_iter_numba(A_multi)\n",
    "    end = time.time()\n",
    "    print(f\"Time numba: {end-start}\")\n"
   ]
  },
  {
   "cell_type": "code",
   "execution_count": 5,
   "metadata": {},
   "outputs": [
    {
     "name": "stdout",
     "output_type": "stream",
     "text": [
      "N: 1000\n",
      "Generation finished\n",
      "Time base: 18.22569513320923\n",
      "Time numba: 0.8805015087127686\n"
     ]
    }
   ],
   "source": [
    "euler_path_unit_test(1000)"
   ]
  },
  {
   "cell_type": "code",
   "execution_count": 6,
   "metadata": {},
   "outputs": [
    {
     "name": "stdout",
     "output_type": "stream",
     "text": [
      "N: 3000\n",
      "Generation finished\n",
      "Time base: 391.9846136569977\n",
      "Time numba: 27.292455434799194\n"
     ]
    }
   ],
   "source": [
    "euler_path_unit_test(3000)"
   ]
  },
  {
   "cell_type": "code",
   "execution_count": 7,
   "metadata": {},
   "outputs": [
    {
     "name": "stdout",
     "output_type": "stream",
     "text": [
      "N: 5000\n",
      "Generation finished\n",
      "Time base: 1984.4435806274414\n",
      "Time numba: 114.99136090278625\n"
     ]
    }
   ],
   "source": [
    "euler_path_unit_test(5000)"
   ]
  }
 ],
 "metadata": {
  "kernelspec": {
   "display_name": ".venv",
   "language": "python",
   "name": "python3"
  },
  "language_info": {
   "codemirror_mode": {
    "name": "ipython",
    "version": 3
   },
   "file_extension": ".py",
   "mimetype": "text/x-python",
   "name": "python",
   "nbconvert_exporter": "python",
   "pygments_lexer": "ipython3",
   "version": "3.9.0"
  },
  "orig_nbformat": 4
 },
 "nbformat": 4,
 "nbformat_minor": 2
}
